{
  "cells": [
    {
      "cell_type": "markdown",
      "metadata": {
        "id": "view-in-github"
      },
      "source": [
        "[![Open In Colab](https://colab.research.google.com/assets/colab-badge.svg)](https://colab.research.google.com/github/camenduru/Envision3D-jupyter/blob/main/Envision3D_jupyter.ipynb)"
      ]
    },
    {
      "cell_type": "code",
      "execution_count": null,
      "metadata": {
        "id": "VjYy0F2gZIPR"
      },
      "outputs": [],
      "source": [
        "%cd /content\n",
        "!git clone -b dev https://github.com/camenduru/Envision3D\n",
        "%cd /content/Envision3D\n",
        "\n",
        "!pip install -q carvekit --no-deps\n",
        "!pip install -q timm pytorch-lightning accelerate diffusers[torch]==0.24.0 omegaconf einops xformers==0.0.25\n",
        "!pip install -q https://github.com/camenduru/wheels/releases/download/colab2/tinycudann-1.7-cp310-cp310-linux_x86_64.whl\n",
        "\n",
        "!apt -y install -qq aria2\n",
        "!aria2c --console-log-level=error -c -x 16 -s 16 -k 1M https://huggingface.co/clay3d/omnidata/resolve/main/omnidata_dpt_normal_v2.ckpt -d /content/Envision3D/pretrained_models -o omnidata_dpt_normal_v2.ckpt\n",
        "\n",
        "!aria2c --console-log-level=error -c -x 16 -s 16 -k 1M https://huggingface.co/pytttttt/Envision3D/raw/main/s1_pipe/feature_extractor/preprocessor_config.json -d /content/Envision3D/pretrained_models/s1_pipe/feature_extractor -o preprocessor_config.json\n",
        "!aria2c --console-log-level=error -c -x 16 -s 16 -k 1M https://huggingface.co/pytttttt/Envision3D/raw/main/s1_pipe/image_encoder/config.json -d /content/Envision3D/pretrained_models/s1_pipe/image_encoder -o config.json\n",
        "!aria2c --console-log-level=error -c -x 16 -s 16 -k 1M https://huggingface.co/pytttttt/Envision3D/resolve/main/s1_pipe/image_encoder/model.safetensors -d /content/Envision3D/pretrained_models/s1_pipe/image_encoder -o model.safetensors\n",
        "!aria2c --console-log-level=error -c -x 16 -s 16 -k 1M https://huggingface.co/pytttttt/Envision3D/raw/main/s1_pipe/scheduler/scheduler_config.json -d /content/Envision3D/pretrained_models/s1_pipe/scheduler -o scheduler_config.json\n",
        "!aria2c --console-log-level=error -c -x 16 -s 16 -k 1M https://huggingface.co/pytttttt/Envision3D/raw/main/s1_pipe/unet/config.json -d /content/Envision3D/pretrained_models/s1_pipe/unet -o config.json\n",
        "!aria2c --console-log-level=error -c -x 16 -s 16 -k 1M https://huggingface.co/pytttttt/Envision3D/resolve/main/s1_pipe/unet/diffusion_pytorch_model.safetensors -d /content/Envision3D/pretrained_models/s1_pipe/unet -o diffusion_pytorch_model.safetensors\n",
        "!aria2c --console-log-level=error -c -x 16 -s 16 -k 1M https://huggingface.co/pytttttt/Envision3D/raw/main/s1_pipe/vae/config.json -d /content/Envision3D/pretrained_models/s1_pipe/vae -o config.json\n",
        "!aria2c --console-log-level=error -c -x 16 -s 16 -k 1M https://huggingface.co/pytttttt/Envision3D/resolve/main/s1_pipe/vae/diffusion_pytorch_model.safetensors -d /content/Envision3D/pretrained_models/s1_pipe/vae -o diffusion_pytorch_model.safetensors\n",
        "!aria2c --console-log-level=error -c -x 16 -s 16 -k 1M https://huggingface.co/pytttttt/Envision3D/raw/main/s1_pipe/model_index.json -d /content/Envision3D/pretrained_models/s1_pipe -o model_index.json\n",
        "\n",
        "!aria2c --console-log-level=error -c -x 16 -s 16 -k 1M https://huggingface.co/pytttttt/Envision3D/raw/main/s2_pipe/feature_extractor/preprocessor_config.json -d /content/Envision3D/pretrained_models/s2_pipe/feature_extractor -o preprocessor_config.json\n",
        "!aria2c --console-log-level=error -c -x 16 -s 16 -k 1M https://huggingface.co/pytttttt/Envision3D/raw/main/s2_pipe/image_encoder/config.json -d /content/Envision3D/pretrained_models/s2_pipe/image_encoder -o config.json\n",
        "!aria2c --console-log-level=error -c -x 16 -s 16 -k 1M https://huggingface.co/pytttttt/Envision3D/resolve/main/s2_pipe/image_encoder/model.safetensors -d /content/Envision3D/pretrained_models/s2_pipe/image_encoder -o model.safetensors\n",
        "!aria2c --console-log-level=error -c -x 16 -s 16 -k 1M https://huggingface.co/pytttttt/Envision3D/raw/main/s2_pipe/scheduler/scheduler_config.json -d /content/Envision3D/pretrained_models/s2_pipe/scheduler -o scheduler_config.json\n",
        "!aria2c --console-log-level=error -c -x 16 -s 16 -k 1M https://huggingface.co/pytttttt/Envision3D/raw/main/s2_pipe/unet/config.json -d /content/Envision3D/pretrained_models/s2_pipe/unet -o config.json\n",
        "!aria2c --console-log-level=error -c -x 16 -s 16 -k 1M https://huggingface.co/pytttttt/Envision3D/resolve/main/s2_pipe/unet/diffusion_pytorch_model.safetensors -d /content/Envision3D/pretrained_models/s2_pipe/unet -o diffusion_pytorch_model.safetensors\n",
        "!aria2c --console-log-level=error -c -x 16 -s 16 -k 1M https://huggingface.co/pytttttt/Envision3D/raw/main/s2_pipe/vae/config.json -d /content/Envision3D/pretrained_models/s2_pipe/vae -o config.json\n",
        "!aria2c --console-log-level=error -c -x 16 -s 16 -k 1M https://huggingface.co/pytttttt/Envision3D/resolve/main/s2_pipe/vae/diffusion_pytorch_model.safetensors -d /content/Envision3D/pretrained_models/s2_pipe/vae -o diffusion_pytorch_model.safetensors\n",
        "!aria2c --console-log-level=error -c -x 16 -s 16 -k 1M https://huggingface.co/pytttttt/Envision3D/raw/main/s2_pipe/model_index.json -d /content/Envision3D/pretrained_models/s2_pipe -o model_index.json"
      ]
    },
    {
      "cell_type": "code",
      "execution_count": null,
      "metadata": {},
      "outputs": [],
      "source": [
        "%cd /content/Envision3D\n",
        "!python process_img.py /content/Envision3D/example_imgs/pumpkin.png /content/Envision3D/processed_imgs --size 256 --recenter\n",
        "!python gen_s1.py --config /content/Envision3D/cfgs/s1.yaml  validation_dataset.filepaths=['pumpkin.png'] validation_dataset.crop_size=224\n",
        "!python gen_s2.py --config /content/Envision3D/cfgs/s2.yaml  validation_dataset.scene=pumpkin\n",
        "\n",
        "%cd /content/Envision3D/instant-nsr-pl\n",
        "!python launch.py --config configs/neuralangelo-pinhole-wmask-opt.yaml --gpu 0 --train dataset.scene=pumpkin"
      ]
    }
  ],
  "metadata": {
    "accelerator": "GPU",
    "colab": {
      "gpuType": "T4",
      "provenance": []
    },
    "kernelspec": {
      "display_name": "Python 3",
      "name": "python3"
    },
    "language_info": {
      "name": "python"
    }
  },
  "nbformat": 4,
  "nbformat_minor": 0
}
